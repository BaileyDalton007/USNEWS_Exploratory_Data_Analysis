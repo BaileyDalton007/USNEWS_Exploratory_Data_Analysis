{
 "cells": [
  {
   "cell_type": "markdown",
   "metadata": {},
   "source": [
    "### Datasets:\n",
    "\n",
    " https://www.kaggle.com/datasets/flyingwombat/us-news-and-world-reports-college-data?resource=download\n",
    "\n",
    " Andrew G. Reiter, “U.S. News & World Report Historical Liberal Arts College and University Rankings,” available at: http://andyreiter.com/datasets/"
   ]
  },
  {
   "cell_type": "code",
   "execution_count": 7,
   "metadata": {},
   "outputs": [],
   "source": [
    "import pandas as pd\n",
    "from math import isnan\n",
    "\n",
    "import pickle\n",
    "\n",
    "from sklearn.linear_model import LinearRegression\n",
    "from sklearn.pipeline import make_pipeline\n",
    "from sklearn import preprocessing"
   ]
  },
  {
   "cell_type": "markdown",
   "metadata": {},
   "source": [
    "## Loading Data into Memory"
   ]
  },
  {
   "cell_type": "code",
   "execution_count": 8,
   "metadata": {},
   "outputs": [],
   "source": [
    "# Loads college features into a dataframe\n",
    "\n",
    "COLLEGE_DATA_FILE = './data/College.csv'\n",
    "\n",
    "college_features = pd.read_csv(COLLEGE_DATA_FILE, delimiter=',')"
   ]
  },
  {
   "cell_type": "code",
   "execution_count": 9,
   "metadata": {},
   "outputs": [],
   "source": [
    "# Loads college rankings (from USNEWS) into a data frame\n",
    "## Only Universities-may add liberal arts schools later\n",
    "\n",
    "RANKING_DATA_FILE = 'data/US-News-Rankings.xlsx'\n",
    "\n",
    "# The year of rankings you want to use\n",
    "YEAR = 2022\n",
    "\n",
    "college_rankings = pd.read_excel(RANKING_DATA_FILE)\n",
    "\n",
    "# Drops all data besides the name of the university and its ranking in 2022\n",
    "college_rankings = college_rankings[['University Name', YEAR]]"
   ]
  },
  {
   "cell_type": "markdown",
   "metadata": {},
   "source": [
    "## Combining Datasets to a Master Dataframe"
   ]
  },
  {
   "cell_type": "code",
   "execution_count": 54,
   "metadata": {},
   "outputs": [],
   "source": [
    "# Master dataframe\n",
    "college_data = pd.DataFrame()\n",
    "\n",
    "# Creates a list of college names in the feature dataset\n",
    "full_name_list = list(college_features['Name'])\n",
    "\n",
    "for index, row in college_rankings.iterrows():\n",
    "    name = row['University Name']\n",
    "    \n",
    "    try:\n",
    "        if not isnan(row[YEAR]):\n",
    "            # Finds the index of the current university in the feature dataframe\n",
    "            feature_index = college_features[college_features.isin([name])].stack().index[0][0]\n",
    "\n",
    "            rank = {'Rank': row[YEAR]}\n",
    "            features = dict(college_features.iloc[feature_index])\n",
    "\n",
    "            # Combines USNEWS rank and university features to a dictionary\n",
    "            rank.update(features)\n",
    "            new_dict = rank\n",
    "\n",
    "            # Converts dictionary to a dataframe and appends it to the master dataframe\n",
    "            new_row = pd.DataFrame([new_dict])\n",
    "            college_data = pd.concat([college_data, new_row],  axis=0)\n",
    "\n",
    "    # If name of university from ranking dataset is not in feature dataset\n",
    "    except IndexError as e:\n",
    "        pass\n",
    "\n",
    "# Fixes indices for master dataframe\n",
    "college_data = college_data.reset_index()\n",
    "college_data = college_data.drop(columns=['index'])\n",
    "\n",
    "# Encodes private column into numeric \n",
    "college_data['Private'] = college_data['Private'].replace(['Yes', 'No'], [1, 0])\n",
    "\n",
    "# Sorts colleges by rank and makes their index the new rank, removing all ties such that num of colleges = highest rank\n",
    "college_data = college_data.sort_values(by=[\"Rank\"])\n",
    "college_data = college_data.reset_index()\n",
    "\n",
    "college_data.reset_index(inplace=True)\n",
    "\n",
    "college_data = college_data.drop(columns=['index', 'Rank'])\n",
    "college_data.rename(columns = {'level_0':'Rank'}, inplace = True)"
   ]
  },
  {
   "cell_type": "code",
   "execution_count": 55,
   "metadata": {},
   "outputs": [],
   "source": [
    "# Save final dataframe to disk\n",
    "college_data.to_csv('data/college_data', index=False)"
   ]
  },
  {
   "cell_type": "code",
   "execution_count": 2,
   "metadata": {},
   "outputs": [],
   "source": [
    "# Load dataframe from disk\n",
    "college_data = pd.read_csv('data/college_data', delimiter=',')"
   ]
  },
  {
   "cell_type": "markdown",
   "metadata": {},
   "source": [
    "## Training Linear Regression Model"
   ]
  },
  {
   "cell_type": "code",
   "execution_count": 56,
   "metadata": {},
   "outputs": [],
   "source": [
    "# y is the rank of the college while x is the encoded features of the college\n",
    "\n",
    "y_train = college_data['Rank']\n",
    "x_train = college_data.drop(columns=['Name', 'Rank'])\n",
    "\n",
    "y_train = y_train.to_numpy()\n",
    "x_train = x_train.to_numpy()"
   ]
  },
  {
   "cell_type": "code",
   "execution_count": 57,
   "metadata": {},
   "outputs": [],
   "source": [
    "# Trains the model with normalized values in [0, 1]\n",
    "model = make_pipeline(preprocessing.MinMaxScaler(), LinearRegression())\n",
    "\n",
    "model.fit(x_train, y_train)\n",
    "\n",
    "r_squared = model.score(x_train, y_train)"
   ]
  },
  {
   "cell_type": "markdown",
   "metadata": {},
   "source": [
    "## Predicting with Model"
   ]
  },
  {
   "cell_type": "code",
   "execution_count": 59,
   "metadata": {},
   "outputs": [],
   "source": [
    "def prepare_x(index):\n",
    "    df = college_data.drop(columns=['Name', 'Rank'])\n",
    "    x = df.loc[index]\n",
    "\n",
    "    return x"
   ]
  },
  {
   "cell_type": "code",
   "execution_count": 65,
   "metadata": {},
   "outputs": [
    {
     "data": {
      "text/plain": [
       "array([2.87769133])"
      ]
     },
     "execution_count": 65,
     "metadata": {},
     "output_type": "execute_result"
    }
   ],
   "source": [
    "# Will predict the ranking of the university at the second index in college_data\n",
    "x = prepare_x(2)\n",
    "model.predict([x])"
   ]
  },
  {
   "cell_type": "markdown",
   "metadata": {},
   "source": [
    "## Saving and Loading Model "
   ]
  },
  {
   "cell_type": "code",
   "execution_count": 66,
   "metadata": {},
   "outputs": [],
   "source": [
    "# Save the model to disk\n",
    "MODEL_FILE = 'model.sav'\n",
    "\n",
    "pickle.dump(model, open(MODEL_FILE, 'wb'))"
   ]
  },
  {
   "cell_type": "code",
   "execution_count": 3,
   "metadata": {},
   "outputs": [],
   "source": [
    "# Load the model from disk\n",
    "MODEL_FILE = 'model.sav'\n",
    "\n",
    "model = pickle.load(open(MODEL_FILE, 'rb'))"
   ]
  }
 ],
 "metadata": {
  "kernelspec": {
   "display_name": "Python 3 (ipykernel)",
   "language": "python",
   "name": "python3"
  },
  "language_info": {
   "codemirror_mode": {
    "name": "ipython",
    "version": 3
   },
   "file_extension": ".py",
   "mimetype": "text/x-python",
   "name": "python",
   "nbconvert_exporter": "python",
   "pygments_lexer": "ipython3",
   "version": "3.10.5"
  },
  "vscode": {
   "interpreter": {
    "hash": "4fb8d66331ea594104df440949c0b27de478abca38e975169ecbc7e3324f4b43"
   }
  }
 },
 "nbformat": 4,
 "nbformat_minor": 4
}
